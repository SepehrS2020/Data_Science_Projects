{
  "nbformat": 4,
  "nbformat_minor": 0,
  "metadata": {
    "colab": {
      "name": "ML in Finance.ipynb",
      "provenance": [],
      "authorship_tag": "ABX9TyMh8Od+zzSMQJRMrnD5grNh",
      "include_colab_link": true
    },
    "kernelspec": {
      "name": "python3",
      "display_name": "Python 3"
    },
    "language_info": {
      "name": "python"
    }
  },
  "cells": [
    {
      "cell_type": "markdown",
      "metadata": {
        "id": "view-in-github",
        "colab_type": "text"
      },
      "source": [
        "<a href=\"https://colab.research.google.com/github/SepehrSepehri/Data_Science_Projects/blob/master/ML%20in%20Finance/ML_in_Finance.ipynb\" target=\"_parent\"><img src=\"https://colab.research.google.com/assets/colab-badge.svg\" alt=\"Open In Colab\"/></a>"
      ]
    },
    {
      "cell_type": "markdown",
      "metadata": {
        "id": "aQYM9vTy-T55"
      },
      "source": [
        "# NoteBook Description\n",
        "This Note book is the practice of the subjects that are taught in **\"Advances in Financial Machine Learning\"** written by ***DR. MARCOS LO´ PEZ DE PRADO***.\n",
        "\n",
        "Some code snippets were borrowed for the book and adjusted for the porpuse of the project."
      ]
    },
    {
      "cell_type": "markdown",
      "metadata": {
        "id": "ntnvIRFj-7a4"
      },
      "source": [
        "# Chapter 2"
      ]
    },
    {
      "cell_type": "code",
      "metadata": {
        "id": "GD2NBa0S-Q_O"
      },
      "source": [
        ""
      ],
      "execution_count": null,
      "outputs": []
    }
  ]
}