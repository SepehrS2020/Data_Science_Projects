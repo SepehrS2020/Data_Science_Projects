{
  "nbformat": 4,
  "nbformat_minor": 0,
  "metadata": {
    "colab": {
      "name": "code.ipynb",
      "provenance": [],
      "collapsed_sections": [],
      "authorship_tag": "ABX9TyODuYMy/TyySHlye6jZ6San",
      "include_colab_link": true
    },
    "kernelspec": {
      "name": "python3",
      "display_name": "Python 3"
    },
    "language_info": {
      "name": "python"
    }
  },
  "cells": [
    {
      "cell_type": "markdown",
      "metadata": {
        "id": "view-in-github",
        "colab_type": "text"
      },
      "source": [
        "<a href=\"https://colab.research.google.com/github/SepehrSepehri/Data_Science_Projects/blob/master/ML%20in%20Finance/code.ipynb\" target=\"_parent\"><img src=\"https://colab.research.google.com/assets/colab-badge.svg\" alt=\"Open In Colab\"/></a>"
      ]
    },
    {
      "cell_type": "code",
      "metadata": {
        "id": "8RGoBYqjD9rQ"
      },
      "source": [
        ""
      ],
      "execution_count": null,
      "outputs": []
    },
    {
      "cell_type": "markdown",
      "metadata": {
        "id": "JelCr0YpD-Gt"
      },
      "source": [
        "# NoteBook Description\n",
        "This Note book is the practice of the subjects that are taught in **\"Advances in Financial Machine Learning\"** written by ***DR. MARCOS LO´ PEZ DE PRADO***.\n",
        "\n",
        "Some code snippets were borrowed for the book and adjusted for the porpuse of the project."
      ]
    }
  ]
}